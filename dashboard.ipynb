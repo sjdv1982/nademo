{
 "cells": [
  {
   "cell_type": "markdown",
   "metadata": {},
   "source": [
    "## Is there a relation between nucleic acid conformation and stacking with the protein?\n",
    "- Which features of the nucleic acid conformation?\n",
    "- How do we define stacking?"
   ]
  },
  {
   "cell_type": "code",
   "execution_count": 1,
   "metadata": {},
   "outputs": [],
   "source": [
    "import json\n",
    "from seamless.highlevel import Context, Cell, Transformer, Module\n",
    "\n",
    "ctx = Context()\n",
    "ctx.add_zip(\"initial-port.zip\")\n",
    "ctx.set_graph(json.load(open(\"initial-port.seamless\")), mounts=True)\n",
    "await ctx.translation()"
   ]
  },
  {
   "cell_type": "code",
   "execution_count": 2,
   "metadata": {},
   "outputs": [],
   "source": [
    "# HACK: X3DNA computation is non-reproducible. Never forget a result!\n",
    "from seamless.core.cache.buffer_cache import buffer_cache\n",
    "buffer_cache.LIFETIME_TEMP = 999999\n",
    "buffer_cache.LIFETIME_TEMP_SMALL = 999999"
   ]
  },
  {
   "cell_type": "markdown",
   "metadata": {},
   "source": [
    "**Select PDB**"
   ]
  },
  {
   "cell_type": "code",
   "execution_count": 3,
   "metadata": {},
   "outputs": [],
   "source": [
    "ctx.pdb_code = \"1B7F\"\n",
    "ctx.na_chain = \"P\"\n",
    "ctx.protein_chain = \"A\"\n",
    "ctx.na_resid = 5\n",
    "ctx.protein_resid = 256"
   ]
  },
  {
   "cell_type": "markdown",
   "metadata": {},
   "source": [
    "**Visualize PDB**"
   ]
  },
  {
   "cell_type": "code",
   "execution_count": 4,
   "metadata": {},
   "outputs": [
    {
     "data": {
      "application/vnd.jupyter.widget-view+json": {
       "model_id": "56d75bc91dd64a0e8ff55bea4975c7e7",
       "version_major": 2,
       "version_minor": 0
      },
      "text/plain": []
     },
     "metadata": {},
     "output_type": "display_data"
    },
    {
     "data": {
      "application/vnd.jupyter.widget-view+json": {
       "model_id": "44287068a97d477480109627b360e8b1",
       "version_major": 2,
       "version_minor": 0
      },
      "text/plain": [
       "NGLWidget()"
      ]
     },
     "metadata": {},
     "output_type": "display_data"
    }
   ],
   "source": [
    "import nglview\n",
    "widget = nglview.NGLWidget()\n",
    "\n",
    "ngl_args = {}\n",
    "def show_ngl(*args, **kwargs):\n",
    "    if len(args):\n",
    "        variable = args[0][\"owner\"].path[-1]\n",
    "        value = args[0][\"new\"]\n",
    "        ngl_args[variable] = value\n",
    "    if len(ngl_args) < 5:\n",
    "        return\n",
    "    pdb_code = ngl_args[\"pdb_code\"]\n",
    "    na_chain = ngl_args[\"na_chain\"]\n",
    "    protein_chain = ngl_args[\"protein_chain\"]\n",
    "    na_resid = ngl_args[\"na_resid\"]\n",
    "    protein_resid = ngl_args[\"protein_resid\"]\n",
    "\n",
    "    widget.clear()\n",
    "    widget.add_component(\"rcsb://\" + pdb_code)\n",
    "    selection='({0} and :{1}) or ({2} and :{3})'.format(na_resid, na_chain, protein_resid, protein_chain)\n",
    "    widget.add_representation('ball+stick', selection=selection, color='blue')\n",
    "    widget.center(selection)\n",
    "\n",
    "display(widget)\n",
    "\n",
    "ctx.pdb_code.traitlet().observe(show_ngl)\n",
    "ctx.na_chain.traitlet().observe(show_ngl)\n",
    "ctx.na_resid.traitlet().observe(show_ngl)\n",
    "ctx.protein_chain.traitlet().observe(show_ngl)\n",
    "ctx.protein_resid.traitlet().observe(show_ngl)"
   ]
  },
  {
   "cell_type": "code",
   "execution_count": 5,
   "metadata": {},
   "outputs": [],
   "source": [
    "ctx.na_resid = 6"
   ]
  },
  {
   "cell_type": "code",
   "execution_count": 6,
   "metadata": {},
   "outputs": [],
   "source": [
    "ctx.na_resid = 5"
   ]
  },
  {
   "cell_type": "code",
   "execution_count": 7,
   "metadata": {},
   "outputs": [
    {
     "data": {
      "application/vnd.jupyter.widget-view+json": {
       "model_id": "88a0947d847f4a99865da2106dc21320",
       "version_major": 2,
       "version_minor": 0
      },
      "text/plain": [
       "Text(value='', description='Nucleic acid - protein complex PDB code', style=DescriptionStyle(description_width…"
      ]
     },
     "metadata": {},
     "output_type": "display_data"
    },
    {
     "data": {
      "application/vnd.jupyter.widget-view+json": {
       "model_id": "32fe16c65939452783507bd02040b587",
       "version_major": 2,
       "version_minor": 0
      },
      "text/plain": [
       "Text(value='', description='Nucleic acid chain ID', style=DescriptionStyle(description_width='initial'))"
      ]
     },
     "metadata": {},
     "output_type": "display_data"
    },
    {
     "data": {
      "application/vnd.jupyter.widget-view+json": {
       "model_id": "e7a97aa17b44455c909711010e1ac364",
       "version_major": 2,
       "version_minor": 0
      },
      "text/plain": [
       "IntText(value=0, description='Nucleic acid residue ID', style=DescriptionStyle(description_width='initial'))"
      ]
     },
     "metadata": {},
     "output_type": "display_data"
    },
    {
     "data": {
      "application/vnd.jupyter.widget-view+json": {
       "model_id": "b9dc3fcf3a814b188ac4a32981f8e155",
       "version_major": 2,
       "version_minor": 0
      },
      "text/plain": [
       "Text(value='', description='Protein chain ID', style=DescriptionStyle(description_width='initial'))"
      ]
     },
     "metadata": {},
     "output_type": "display_data"
    },
    {
     "data": {
      "application/vnd.jupyter.widget-view+json": {
       "model_id": "cbfa713d662d476bb0189008d8e654d3",
       "version_major": 2,
       "version_minor": 0
      },
      "text/plain": [
       "IntText(value=0, description='Protein residue ID', style=DescriptionStyle(description_width='initial'))"
      ]
     },
     "metadata": {},
     "output_type": "display_data"
    }
   ],
   "source": [
    "from ipywidgets import IntText, Text\n",
    "\n",
    "w_pdb_code= Text(\n",
    "    description=\"Nucleic acid - protein complex PDB code\", \n",
    "    style = {'description_width': 'initial'}\n",
    ")\n",
    "w_na_chain= Text(\n",
    "    description=\"Nucleic acid chain ID\", \n",
    "    style = {'description_width': 'initial'}\n",
    ")\n",
    "w_na_resid = IntText(\n",
    "    description=\"Nucleic acid residue ID\", \n",
    "    style = {'description_width': 'initial'}\n",
    ")\n",
    "w_protein_chain = Text(\n",
    "    description=\"Protein chain ID\", \n",
    "    style = {'description_width': 'initial'}\n",
    ")\n",
    "w_protein_resid = IntText(\n",
    "    description=\"Protein residue ID\", \n",
    "    style = {'description_width': 'initial'}\n",
    ")\n",
    "ctx.pdb_code.traitlet().link(w_pdb_code)\n",
    "ctx.na_chain.traitlet().link(w_na_chain)\n",
    "ctx.na_resid.traitlet().link(w_na_resid)\n",
    "ctx.protein_resid.traitlet().link(w_protein_resid)\n",
    "ctx.protein_chain.traitlet().link(w_protein_chain)\n",
    "display(w_pdb_code)\n",
    "display(w_na_chain)\n",
    "display(w_na_resid)\n",
    "display(w_protein_chain)\n",
    "display(w_protein_resid)"
   ]
  },
  {
   "cell_type": "markdown",
   "metadata": {},
   "source": [
    "**Execute X3DNA-DSSR**"
   ]
  },
  {
   "cell_type": "code",
   "execution_count": 8,
   "metadata": {
    "collapsed": true
   },
   "outputs": [
    {
     "data": {
      "application/vnd.jupyter.widget-view+json": {
       "model_id": "221c83e3552148c9bd7b61359d5f17ce",
       "version_major": 2,
       "version_minor": 0
      },
      "text/plain": [
       "Output()"
      ]
     },
     "metadata": {},
     "output_type": "display_data"
    }
   ],
   "source": [
    "ctx.x3dna_analysis.output()"
   ]
  },
  {
   "cell_type": "markdown",
   "metadata": {},
   "source": [
    "**Select chain and show X3DNA results**"
   ]
  },
  {
   "cell_type": "code",
   "execution_count": 9,
   "metadata": {
    "collapsed": true
   },
   "outputs": [
    {
     "data": {
      "application/vnd.jupyter.widget-view+json": {
       "model_id": "5d37194d20784e5e922edde4b2b8a67b",
       "version_major": 2,
       "version_minor": 0
      },
      "text/plain": [
       "Output()"
      ]
     },
     "metadata": {},
     "output_type": "display_data"
    }
   ],
   "source": [
    "ctx.df_x3dna.output()"
   ]
  },
  {
   "cell_type": "markdown",
   "metadata": {},
   "source": [
    "**Parse PDB into structured Numpy array using parse_pdb.py**"
   ]
  },
  {
   "cell_type": "code",
   "execution_count": 10,
   "metadata": {
    "collapsed": true
   },
   "outputs": [
    {
     "data": {
      "application/vnd.jupyter.widget-view+json": {
       "model_id": "340dac4100e24cdf9a129726bd1a1933",
       "version_major": 2,
       "version_minor": 0
      },
      "text/plain": [
       "Output()"
      ]
     },
     "metadata": {},
     "output_type": "display_data"
    }
   ],
   "source": [
    "ctx.df_pdb.output()"
   ]
  },
  {
   "cell_type": "markdown",
   "metadata": {},
   "source": [
    "**Integrate all properties for the selected interaction**\n",
    "- Stacking properties are computed using the code above\n",
    "- A list of other properties is extracted from the X3DNA analysis"
   ]
  },
  {
   "cell_type": "code",
   "execution_count": 11,
   "metadata": {},
   "outputs": [
    {
     "data": {
      "application/vnd.jupyter.widget-view+json": {
       "model_id": "80a28d527f074d2487282482f1cde3b0",
       "version_major": 2,
       "version_minor": 0
      },
      "text/plain": [
       "Output()"
      ]
     },
     "metadata": {},
     "output_type": "display_data"
    }
   ],
   "source": [
    "ctx.all_properties.output()"
   ]
  },
  {
   "cell_type": "markdown",
   "metadata": {},
   "source": [
    "**Calculate properties for all residue-nucleotide pair**\n",
    "\n",
    "Instead of using the pre-selected residue and nucleotide, iterate over all"
   ]
  },
  {
   "cell_type": "code",
   "execution_count": 12,
   "metadata": {
    "collapsed": true
   },
   "outputs": [
    {
     "data": {
      "application/vnd.jupyter.widget-view+json": {
       "model_id": "b5705c332ed44735943127658eead56f",
       "version_major": 2,
       "version_minor": 0
      },
      "text/plain": [
       "Output()"
      ]
     },
     "metadata": {},
     "output_type": "display_data"
    }
   ],
   "source": [
    "ctx.df_stackings.output()"
   ]
  },
  {
   "cell_type": "markdown",
   "metadata": {},
   "source": [
    "**Plot a nucleotide conformation property versus a stacking property**"
   ]
  },
  {
   "cell_type": "code",
   "execution_count": 13,
   "metadata": {},
   "outputs": [
    {
     "data": {
      "application/vnd.jupyter.widget-view+json": {
       "model_id": "149e4c45597842d68c53b4608577c72a",
       "version_major": 2,
       "version_minor": 0
      },
      "text/plain": [
       "Output()"
      ]
     },
     "metadata": {},
     "output_type": "display_data"
    }
   ],
   "source": [
    "ctx.plot.output()"
   ]
  },
  {
   "cell_type": "markdown",
   "metadata": {},
   "source": [
    "**Mount property calculation code and plotting code to file**"
   ]
  },
  {
   "cell_type": "code",
   "execution_count": 14,
   "metadata": {},
   "outputs": [],
   "source": [
    "ctx.calc_properties.mount(\"calc-properties.py\")\n",
    "ctx.get_plot.code.mount(\"get-plot.py\")\n",
    "await ctx.translation()"
   ]
  },
  {
   "cell_type": "markdown",
   "metadata": {},
   "source": [
    "**Share the plot over HTTP. It will be available as http://localhost:5813/ctx/plot.html**"
   ]
  },
  {
   "cell_type": "code",
   "execution_count": 15,
   "metadata": {},
   "outputs": [
    {
     "name": "stdout",
     "output_type": "stream",
     "text": [
      "Opened the seamless share update server at port 5138\n",
      "Opened the seamless REST server at port 5813\n"
     ]
    }
   ],
   "source": [
    "ctx.plot.share(\"plot.html\")\n",
    "await ctx.translation()"
   ]
  },
  {
   "cell_type": "markdown",
   "metadata": {},
   "source": [
    "**Alternative PDB structure to analyze**\n",
    "\n",
    "Enter the following in the widgets or in a cell\n",
    "\n",
    "```python\n",
    "ctx.pdb_code = \"1A9N\"\n",
    "ctx.na_chain = \"Q\"\n",
    "ctx.protein_chain = \"B\"\n",
    "ctx.na_resid = 13\n",
    "ctx.protein_resid = 56\n",
    "```"
   ]
  }
 ],
 "metadata": {
  "kernelspec": {
   "display_name": "Python 3",
   "language": "python",
   "name": "python3"
  },
  "language_info": {
   "codemirror_mode": {
    "name": "ipython",
    "version": 3
   },
   "file_extension": ".py",
   "mimetype": "text/x-python",
   "name": "python",
   "nbconvert_exporter": "python",
   "pygments_lexer": "ipython3",
   "version": "3.7.3"
  }
 },
 "nbformat": 4,
 "nbformat_minor": 2
}
