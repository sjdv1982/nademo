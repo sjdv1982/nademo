{
 "cells": [
  {
   "cell_type": "markdown",
   "metadata": {},
   "source": [
    "## Is there a relation between nucleic acid conformation and stacking with the protein?\n",
    "- Which features of the nucleic acid conformation?\n",
    "- How do we define stacking?"
   ]
  },
  {
   "cell_type": "code",
   "execution_count": 1,
   "metadata": {},
   "outputs": [],
   "source": [
    "from seamless.highlevel import Context, Cell, Transformer, Module\n",
    "ctx = Context()"
   ]
  },
  {
   "cell_type": "code",
   "execution_count": null,
   "metadata": {},
   "outputs": [],
   "source": [
    "# HACK: X3DNA computation is non-reproducible. Never forget a result!\n",
    "from seamless.core.cache.buffer_cache import buffer_cache\n",
    "buffer_cache.LIFETIME_TEMP = 999999\n",
    "buffer_cache.LIFETIME_TEMP_SMALL = 999999"
   ]
  },
  {
   "cell_type": "markdown",
   "metadata": {},
   "source": [
    "**Select PDB**"
   ]
  },
  {
   "cell_type": "code",
   "execution_count": 2,
   "metadata": {},
   "outputs": [],
   "source": [
    "ctx.pdb_code = \"1B7F\"\n",
    "ctx.na_chain = \"P\"\n",
    "ctx.protein_chain = \"A\"\n",
    "ctx.na_resid = 5\n",
    "ctx.protein_resid = 256"
   ]
  },
  {
   "cell_type": "markdown",
   "metadata": {},
   "source": [
    "**Visualize PDB**"
   ]
  },
  {
   "cell_type": "code",
   "execution_count": 3,
   "metadata": {},
   "outputs": [
    {
     "data": {
      "application/vnd.jupyter.widget-view+json": {
       "model_id": "1b345aca183d43b5a39fcb86feeb88d7",
       "version_major": 2,
       "version_minor": 0
      },
      "text/plain": []
     },
     "metadata": {},
     "output_type": "display_data"
    },
    {
     "data": {
      "application/vnd.jupyter.widget-view+json": {
       "model_id": "2f12a617276241b9a878d9355847a846",
       "version_major": 2,
       "version_minor": 0
      },
      "text/plain": [
       "NGLWidget()"
      ]
     },
     "metadata": {},
     "output_type": "display_data"
    }
   ],
   "source": [
    "import nglview\n",
    "widget = nglview.NGLWidget()\n",
    "\n",
    "ngl_args = {}\n",
    "def show_ngl(*args, **kwargs):\n",
    "    if len(args):\n",
    "        variable = args[0][\"owner\"].path[-1]\n",
    "        value = args[0][\"new\"]\n",
    "        ngl_args[variable] = value\n",
    "    if len(ngl_args) < 5:\n",
    "        return\n",
    "    pdb_code = ngl_args[\"pdb_code\"]\n",
    "    na_chain = ngl_args[\"na_chain\"]\n",
    "    protein_chain = ngl_args[\"protein_chain\"]\n",
    "    na_resid = ngl_args[\"na_resid\"]\n",
    "    protein_resid = ngl_args[\"protein_resid\"]\n",
    "\n",
    "    widget.clear()\n",
    "    widget.add_component(\"rcsb://\" + pdb_code)\n",
    "    selection='({0} and :{1}) or ({2} and :{3})'.format(na_resid, na_chain, protein_resid, protein_chain)\n",
    "    widget.add_representation('ball+stick', selection=selection, color='blue')\n",
    "    widget.center(selection)\n",
    "\n",
    "display(widget)\n",
    "\n",
    "ctx.pdb_code.traitlet().observe(show_ngl)\n",
    "ctx.na_chain.traitlet().observe(show_ngl)\n",
    "ctx.na_resid.traitlet().observe(show_ngl)\n",
    "ctx.protein_chain.traitlet().observe(show_ngl)\n",
    "ctx.protein_resid.traitlet().observe(show_ngl)\n",
    "await ctx.computation()"
   ]
  },
  {
   "cell_type": "code",
   "execution_count": 4,
   "metadata": {},
   "outputs": [],
   "source": [
    "ctx.na_resid = 6"
   ]
  },
  {
   "cell_type": "code",
   "execution_count": 5,
   "metadata": {},
   "outputs": [],
   "source": [
    "ctx.na_resid = 5"
   ]
  },
  {
   "cell_type": "markdown",
   "metadata": {},
   "source": [
    "**Download PDB**"
   ]
  },
  {
   "cell_type": "code",
   "execution_count": 6,
   "metadata": {},
   "outputs": [],
   "source": [
    "def download_pdb(pdb_code):\n",
    "    import urllib\n",
    "    pdb_data = urllib.request.urlopen(\"https://files.rcsb.org/download/{}.pdb\".format(pdb_code)).read().decode()\n",
    "    return pdb_data\n",
    "\n",
    "ctx.download_pdb = download_pdb\n",
    "ctx.download_pdb.pdb_code = ctx.pdb_code\n",
    "ctx.pdb_data = ctx.download_pdb"
   ]
  },
  {
   "cell_type": "markdown",
   "metadata": {},
   "source": [
    "**Execute X3DNA-DSSR**"
   ]
  },
  {
   "cell_type": "code",
   "execution_count": 7,
   "metadata": {},
   "outputs": [
    {
     "name": "stdout",
     "output_type": "stream",
     "text": [
      "Waiting for: Seamless transformer: .execute_x3dna.tf\n",
      "Waiting for: Seamless transformer: .execute_x3dna.tf\n",
      "Waiting for: Seamless transformer: .execute_x3dna.tf\n",
      "Waiting for: Seamless transformer: .execute_x3dna.tf\n"
     ]
    },
    {
     "data": {
      "application/vnd.jupyter.widget-view+json": {
       "model_id": "a649ad08249d407f928ca5b03ca869b0",
       "version_major": 2,
       "version_minor": 0
      },
      "text/plain": [
       "Output(outputs=({'output_type': 'display_data', 'data': {'text/plain': '{\\n  \"atom2bases\": [\\n    {\\n      \"at…"
      ]
     },
     "metadata": {},
     "output_type": "display_data"
    }
   ],
   "source": [
    "ctx.execute_x3dna = Transformer()\n",
    "ctx.execute_x3dna.language = \"docker\"\n",
    "ctx.execute_x3dna.docker_image = \"x3dna\"\n",
    "ctx.execute_x3dna.code = \"x3dna-dssr -i=pdb_data --json -o=RESULT\"\n",
    "ctx.execute_x3dna.pdb_data = ctx.pdb_data\n",
    "ctx.x3dna_analysis = ctx.execute_x3dna\n",
    "\n",
    "await ctx.computation()\n",
    "ctx.x3dna_analysis.output()"
   ]
  },
  {
   "cell_type": "code",
   "execution_count": 8,
   "metadata": {},
   "outputs": [
    {
     "name": "stdout",
     "output_type": "stream",
     "text": [
      "[i] JSON output should end with the .json extension\n",
      "\n",
      "Processing file 'pdb_data'\n",
      "    total number of nucleotides: 24\n",
      "    total number of amino acids: 334\n",
      "    total number of base pairs: 2\n",
      "    total number of atom-base capping interactions: 2\n",
      "    total number of splayed-apart dinucleotides: 12\n",
      "                        consolidated into units: 8\n",
      "    total number of non-loop single-stranded segments: 2\n",
      "\n",
      "Time used: 00:00:00:00\n",
      "\n",
      "\n"
     ]
    }
   ],
   "source": [
    "print(ctx.execute_x3dna.logs)"
   ]
  },
  {
   "cell_type": "markdown",
   "metadata": {},
   "source": [
    "**Select chain and show X3DNA results**"
   ]
  },
  {
   "cell_type": "code",
   "execution_count": 9,
   "metadata": {
    "scrolled": true
   },
   "outputs": [
    {
     "data": {
      "text/plain": [
       "{'C5prime_xyz': [-5.973, 4.829, 0.272],\n",
       " 'Dp': 2.834,\n",
       " 'P_xyz': [-6.118, 3.551, 2.579],\n",
       " 'alpha': None,\n",
       " 'amplitude': 41.84,\n",
       " 'bb_type': '--',\n",
       " 'beta': -92.219,\n",
       " 'bin': 'inc',\n",
       " 'chain_name': 'P',\n",
       " 'chi': 37.927,\n",
       " 'cluster': '__',\n",
       " 'dbn': '.',\n",
       " 'delta': 127.686,\n",
       " 'epsilon': -167.738,\n",
       " 'epsilon_zeta': 122.17,\n",
       " 'eta': None,\n",
       " 'eta_base': None,\n",
       " 'eta_prime': None,\n",
       " 'filter_rmsd': 0.014,\n",
       " 'form': '.',\n",
       " 'frame': {'origin': [40.637, 51.477, 117.66],\n",
       "  'quaternion': [0.735, -0.405, 0.09, -0.536],\n",
       "  'rmsd': 0.014,\n",
       "  'x_axis': [0.41, -0.861, 0.301],\n",
       "  'y_axis': [0.715, 0.097, -0.693],\n",
       "  'z_axis': [0.567, 0.499, 0.655]},\n",
       " 'gamma': -161.658,\n",
       " 'glyco_bond': 'syn',\n",
       " 'index': 1,\n",
       " 'index_chain': 1,\n",
       " 'nt_code': 'G',\n",
       " 'nt_id': 'P.G1',\n",
       " 'nt_name': 'G',\n",
       " 'nt_resnum': 1,\n",
       " 'nt_type': 'RNA',\n",
       " 'phase_angle': 130.258,\n",
       " 'puckering': \"C1'-exo\",\n",
       " 'splay_angle': 104.33,\n",
       " 'splay_distance': 15.063,\n",
       " 'splay_ratio': 0.79,\n",
       " 'ssZp': -2.512,\n",
       " 'sugar_class': \"~C2'-endo\",\n",
       " 'suiteness': 0.0,\n",
       " 'summary': \"syn,~C2'-endo,non-stack,non-pair-contact,ss-non-loop,splayed-apart\",\n",
       " 'theta': -37.5,\n",
       " 'theta_base': -8.995,\n",
       " 'theta_prime': -15.289,\n",
       " 'v0': -39.548,\n",
       " 'v1': 41.741,\n",
       " 'v2': -27.038,\n",
       " 'v3': 4.29,\n",
       " 'v4': 21.27,\n",
       " 'zeta': 70.091}"
      ]
     },
     "execution_count": 9,
     "metadata": {},
     "output_type": "execute_result"
    }
   ],
   "source": [
    "def get_x3dna_nucleotides(x3dna_analysis, na_chain):\n",
    "    return [nt for nt in x3dna_analysis[\"nts\"] if nt[\"chain_name\"] == na_chain]\n",
    "ctx.get_x3dna_nucleotides = get_x3dna_nucleotides\n",
    "ctx.get_x3dna_nucleotides.x3dna_analysis = ctx.x3dna_analysis\n",
    "ctx.get_x3dna_nucleotides.na_chain = ctx.na_chain\n",
    "\n",
    "ctx.x3dna_nucleotides = ctx.get_x3dna_nucleotides\n",
    "ctx.x3dna_nucleotides.celltype = \"plain\"\n",
    "await ctx.computation()\n",
    "ctx.x3dna_nucleotides.value[0]"
   ]
  },
  {
   "cell_type": "code",
   "execution_count": 10,
   "metadata": {
    "scrolled": true
   },
   "outputs": [
    {
     "data": {
      "application/vnd.jupyter.widget-view+json": {
       "model_id": "7171672734b34498b40f1417bd1916ae",
       "version_major": 2,
       "version_minor": 0
      },
      "text/plain": [
       "Output()"
      ]
     },
     "metadata": {},
     "output_type": "display_data"
    }
   ],
   "source": [
    "def get_df_x3dna(x3dna_nucleotides):\n",
    "    import pandas as pd\n",
    "    df_x3dna = pd.DataFrame(x3dna_nucleotides)\n",
    "    return df_x3dna.to_html()\n",
    "\n",
    "ctx.get_df_x3dna = get_df_x3dna\n",
    "ctx.get_df_x3dna.x3dna_nucleotides = ctx.x3dna_nucleotides\n",
    "ctx.get_df_x3dna.pins.x3dna_nucleotides.celltype = \"plain\"\n",
    "\n",
    "ctx.df_x3dna = ctx.get_df_x3dna\n",
    "await ctx.translation()\n",
    "ctx.df_x3dna.mimetype = \"text/html\"\n",
    "await ctx.translation()\n",
    "ctx.df_x3dna.output()"
   ]
  },
  {
   "cell_type": "markdown",
   "metadata": {},
   "source": [
    "**Parse PDB into structured Numpy array using parse_pdb.py**"
   ]
  },
  {
   "cell_type": "code",
   "execution_count": 11,
   "metadata": {},
   "outputs": [],
   "source": [
    "ctx.parse_pdb = Module()\n",
    "ctx.parse_pdb.mount(\"parse_pdb.py\")\n",
    "\n",
    "def get_parsed_pdb(pdb_data):\n",
    "    parsed_pdb = parse_pdb.parse_pdb(pdb_data)\n",
    "    return parsed_pdb\n",
    "\n",
    "ctx.get_parsed_pdb = get_parsed_pdb\n",
    "ctx.get_parsed_pdb.parse_pdb = ctx.parse_pdb\n",
    "ctx.get_parsed_pdb.pdb_data = ctx.pdb_data\n",
    "ctx.parsed_pdb = ctx.get_parsed_pdb\n",
    "ctx.parsed_pdb.celltype = \"binary\"\n",
    "\n",
    "await ctx.computation()"
   ]
  },
  {
   "cell_type": "code",
   "execution_count": 12,
   "metadata": {},
   "outputs": [
    {
     "data": {
      "text/plain": [
       "array([(1, b' ', b'OP3', b' ', b'  G', b'P', 1, b' ', 1, 43.063, 59.607, 115.478, 1., 68.76, b'    ', b'O'),\n",
       "       (1, b' ', b'P', b' ', b'  G', b'P', 2, b' ', 1, 42.131, 58.379, 115.046, 1., 68.5 , b'    ', b'P')],\n",
       "      dtype={'names':['model','hetero','name','altloc','resname','chain','index','icode','resid','x','y','z','occupancy','bfactor','segid','element'], 'formats':['<u2','S1','S4','S1','S3','S1','<u4','S1','<u2','<f4','<f4','<f4','<f4','<f4','S4','S2'], 'offsets':[0,2,3,7,8,11,12,16,18,20,24,28,32,36,40,44], 'itemsize':48, 'aligned':True})"
      ]
     },
     "execution_count": 12,
     "metadata": {},
     "output_type": "execute_result"
    }
   ],
   "source": [
    "# Does not update in response to changes in ctx.parsed_pdb\n",
    "ctx.parsed_pdb.value[:2]"
   ]
  },
  {
   "cell_type": "code",
   "execution_count": 13,
   "metadata": {
    "scrolled": true
   },
   "outputs": [
    {
     "data": {
      "text/plain": [
       "[{'model': 1,\n",
       "  'hetero': b' ',\n",
       "  'name': b'OP3',\n",
       "  'altloc': b' ',\n",
       "  'resname': b'  G',\n",
       "  'chain': b'P',\n",
       "  'index': 1,\n",
       "  'icode': b' ',\n",
       "  'resid': 1,\n",
       "  'x': 43.063,\n",
       "  'y': 59.607,\n",
       "  'z': 115.478,\n",
       "  'occupancy': 1.0,\n",
       "  'bfactor': 68.76,\n",
       "  'segid': b'    ',\n",
       "  'element': b'O'},\n",
       " {'model': 1,\n",
       "  'hetero': b' ',\n",
       "  'name': b'P',\n",
       "  'altloc': b' ',\n",
       "  'resname': b'  G',\n",
       "  'chain': b'P',\n",
       "  'index': 2,\n",
       "  'icode': b' ',\n",
       "  'resid': 1,\n",
       "  'x': 42.131,\n",
       "  'y': 58.379,\n",
       "  'z': 115.046,\n",
       "  'occupancy': 1.0,\n",
       "  'bfactor': 68.5,\n",
       "  'segid': b'    ',\n",
       "  'element': b'P'}]"
      ]
     },
     "execution_count": 13,
     "metadata": {},
     "output_type": "execute_result"
    }
   ],
   "source": [
    "# Does not update in response to changes in ctx.parsed_pdb\n",
    "import parse_pdb\n",
    "parse_pdb.print_atom(ctx.parsed_pdb.value[:2])"
   ]
  },
  {
   "cell_type": "code",
   "execution_count": 14,
   "metadata": {},
   "outputs": [
    {
     "data": {
      "application/vnd.jupyter.widget-view+json": {
       "model_id": "3f03d8aae26043fca4491772f6279603",
       "version_major": 2,
       "version_minor": 0
      },
      "text/plain": [
       "Output()"
      ]
     },
     "metadata": {},
     "output_type": "display_data"
    }
   ],
   "source": [
    "def get_df_pdb(parsed_pdb):\n",
    "    import numpy as np\n",
    "    import pandas as pd\n",
    "    df_pdb = pd.DataFrame(parsed_pdb)\n",
    "    for col, dtype in df_pdb.dtypes.items():\n",
    "        if dtype == np.object:  # Only process byte object columns.\n",
    "            df_pdb[col] = df_pdb[col].apply(lambda x: x.decode(\"utf-8\"))\n",
    "    return df_pdb.to_html()\n",
    "\n",
    "ctx.get_df_pdb = get_df_pdb\n",
    "ctx.get_df_pdb.parsed_pdb = ctx.parsed_pdb\n",
    "ctx.get_df_pdb.pins.parsed_pdb.celltype = \"binary\"\n",
    "ctx.df_pdb = ctx.get_df_pdb\n",
    "\n",
    "await ctx.translation()\n",
    "ctx.df_pdb.mimetype = \"text/html\"\n",
    "\n",
    "await ctx.translation()\n",
    "ctx.df_pdb.output()"
   ]
  },
  {
   "cell_type": "markdown",
   "metadata": {},
   "source": [
    "**Select protein and nucleic acid chain from parsed PDB**"
   ]
  },
  {
   "cell_type": "code",
   "execution_count": 15,
   "metadata": {},
   "outputs": [],
   "source": [
    "def select_chains(parsed_pdb, protein_chain, na_chain):\n",
    "    protein_atoms = parsed_pdb[parsed_pdb[\"chain\"]==protein_chain.encode()]\n",
    "    na_atoms = parsed_pdb[parsed_pdb[\"chain\"]==na_chain.encode()]\n",
    "    print(len(protein_atoms), len(na_atoms))\n",
    "    return {\n",
    "        \"protein_atoms\": protein_atoms,\n",
    "        \"na_atoms\": na_atoms\n",
    "    }\n",
    "ctx.select_chains = select_chains\n",
    "ctx.select_chains.parsed_pdb = ctx.parsed_pdb\n",
    "ctx.select_chains.pins.parsed_pdb.celltype = \"binary\"\n",
    "ctx.select_chains.protein_chain = ctx.protein_chain\n",
    "ctx.select_chains.na_chain = ctx.na_chain\n",
    "ctx.selected_chains = ctx.select_chains\n",
    "ctx.protein_atoms = ctx.selected_chains.protein_atoms\n",
    "ctx.na_atoms = ctx.selected_chains.na_atoms\n",
    "await ctx.translation()"
   ]
  },
  {
   "cell_type": "code",
   "execution_count": 16,
   "metadata": {},
   "outputs": [
    {
     "name": "stdout",
     "output_type": "stream",
     "text": [
      "Waiting for: Seamless mixed cell: .CONNECTION_9\n",
      "1365 254\n",
      "\n"
     ]
    }
   ],
   "source": [
    "await ctx.computation()\n",
    "print(ctx.select_chains.logs)"
   ]
  },
  {
   "cell_type": "markdown",
   "metadata": {},
   "source": [
    "**Define code to calculate stacking properties**"
   ]
  },
  {
   "cell_type": "code",
   "execution_count": 17,
   "metadata": {},
   "outputs": [],
   "source": [
    "def calculate_stacking_properties(protein_atoms, protein_resid, na_atoms, na_resid):\n",
    "    import numpy as np\n",
    "    import scipy.spatial.distance\n",
    "    res_protein = protein_atoms[protein_atoms[\"resid\"]==protein_resid]\n",
    "    assert len(res_protein)\n",
    "    aa = res_protein[0][\"resname\"].decode().strip()\n",
    "    res_na = na_atoms[na_atoms[\"resid\"]==na_resid]\n",
    "    assert len(res_na)\n",
    "    nuc = res_na[0][\"resname\"].decode().strip()[-1] # one-letter\n",
    "    coor_res_protein = np.stack((res_protein[\"x\"], res_protein[\"y\"], res_protein[\"z\"])).T\n",
    "    coor_res_na = np.stack((res_na[\"x\"], res_na[\"y\"], res_na[\"z\"])).T\n",
    "\n",
    "    result = {}\n",
    "    dist = scipy.spatial.distance.cdist(coor_res_protein, coor_res_na)\n",
    "    result[\"closest_distance\"] = dist.min()\n",
    "\n",
    "    sidechains = {\n",
    "        \"PHE\": ['CG', 'CD1', 'CD2', 'CE1', 'CE2', 'CZ']\n",
    "    }\n",
    "    sidechain_mask = np.isin(res_protein[\"name\"], [name.encode() for name in sidechains[aa]])\n",
    "    bases = {\n",
    "        \"U\": ['C2', 'C4', 'C5', 'C6', 'N1', 'N3']\n",
    "    }\n",
    "    base_mask = np.isin(res_na[\"name\"], [name.encode() for name in bases[nuc]])\n",
    "    stacking_dist = dist[sidechain_mask][:,base_mask]\n",
    "    result[\"mean_stacking_dist\"] = stacking_dist.mean()\n",
    "    result[\"std_stacking_dist\"] = stacking_dist.std()\n",
    "\n",
    "    return result\n",
    "\n",
    "def calculate_all_properties(protein_atoms, protein_resid, na_atoms, na_resid, x3dna_nucleotides):\n",
    "    stacking_properties = calculate_stacking_properties(protein_atoms, protein_resid, na_atoms, na_resid)\n",
    "    x3dna_nucl = [nucl for nucl in x3dna_nucleotides if nucl[\"nt_resnum\"] == na_resid]\n",
    "    assert len(x3dna_nucl) == 1\n",
    "    nucl_props = [\"gamma\", \"delta\", \"chi\"]\n",
    "    result = {}\n",
    "    for prop in nucl_props:\n",
    "        result[prop] = x3dna_nucl[0][prop]\n",
    "    result.update(stacking_properties)\n",
    "    return result\n",
    "\n",
    "ctx.calc_properties = Module()\n",
    "import inspect\n",
    "src = inspect.getsource(calculate_stacking_properties) \\\n",
    "+ \"\\n\" \\\n",
    "+ inspect.getsource(calculate_all_properties)\n",
    "ctx.calc_properties.code = src\n",
    "await ctx.translation()"
   ]
  },
  {
   "cell_type": "markdown",
   "metadata": {},
   "source": [
    "**Define code to integrate all properties**\n",
    "- Stacking properties are computed using the code above\n",
    "- A list of other properties is extracted from the X3DNA analysis"
   ]
  },
  {
   "cell_type": "code",
   "execution_count": 18,
   "metadata": {},
   "outputs": [
    {
     "data": {
      "application/vnd.jupyter.widget-view+json": {
       "model_id": "1899083fdd8b4d638ce22a3c64f59b79",
       "version_major": 2,
       "version_minor": 0
      },
      "text/plain": [
       "Output()"
      ]
     },
     "metadata": {},
     "output_type": "display_data"
    }
   ],
   "source": [
    "def get_all_properties(protein_atoms, protein_resid, na_atoms, na_resid, x3dna_nucleotides):\n",
    "    return calc_properties.calculate_all_properties(\n",
    "        protein_atoms, protein_resid, na_atoms, na_resid, x3dna_nucleotides\n",
    "    )\n",
    "ctx.get_all_properties = get_all_properties\n",
    "ctx.get_all_properties.calc_properties = ctx.calc_properties\n",
    "ctx.get_all_properties.protein_atoms = ctx.protein_atoms\n",
    "ctx.get_all_properties.pins.protein_atoms.celltype = \"binary\"\n",
    "ctx.get_all_properties.protein_resid = ctx.protein_resid\n",
    "ctx.get_all_properties.na_atoms = ctx.na_atoms\n",
    "ctx.get_all_properties.pins.na_atoms.celltype = \"binary\"\n",
    "ctx.get_all_properties.na_resid = ctx.na_resid\n",
    "ctx.get_all_properties.x3dna_nucleotides = ctx.x3dna_nucleotides\n",
    "ctx.get_all_properties.pins.x3dna_nucleotides.celltype = \"plain\"\n",
    "ctx.all_properties = ctx.get_all_properties\n",
    "ctx.all_properties.celltype = \"plain\"\n",
    "await ctx.translation()\n",
    "ctx.all_properties.output()"
   ]
  },
  {
   "cell_type": "markdown",
   "metadata": {},
   "source": [
    "**Calculate properties for all residue-nucleotide pair**\n",
    "\n",
    "Instead of using the pre-selected residue and nucleotide, iterate over all"
   ]
  },
  {
   "cell_type": "code",
   "execution_count": 19,
   "metadata": {
    "scrolled": true
   },
   "outputs": [
    {
     "data": {
      "application/vnd.jupyter.widget-view+json": {
       "model_id": "e947998b59194125a1aa3075f5cfb96c",
       "version_major": 2,
       "version_minor": 0
      },
      "text/plain": [
       "Output()"
      ]
     },
     "metadata": {},
     "output_type": "display_data"
    }
   ],
   "source": [
    "def get_stackings(protein_atoms, na_atoms, x3dna_nucleotides):\n",
    "    import numpy as np\n",
    "    print\n",
    "    from .calc_properties import calculate_all_properties\n",
    "    all_protein_resids = np.unique(protein_atoms[\"resid\"])\n",
    "    all_na_resids = np.unique(na_atoms[\"resid\"])\n",
    "    stackings = []\n",
    "    for curr_na_resid in all_na_resids:\n",
    "        for curr_protein_resid in all_protein_resids:\n",
    "            try:\n",
    "                properties = calculate_all_properties(\n",
    "                    protein_atoms, curr_protein_resid,\n",
    "                    na_atoms, curr_na_resid,\n",
    "                    x3dna_nucleotides\n",
    "                )\n",
    "            except (KeyError, AssertionError):\n",
    "                continue\n",
    "            properties[\"na_resid\"] = int(curr_na_resid)\n",
    "            properties[\"protein_resid\"] = int(curr_protein_resid)\n",
    "            stackings.append(properties)\n",
    "    return stackings\n",
    "\n",
    "ctx.get_stackings = get_stackings\n",
    "ctx.get_stackings.calc_properties = ctx.calc_properties\n",
    "ctx.get_stackings.protein_atoms = ctx.protein_atoms\n",
    "ctx.get_stackings.pins.protein_atoms.celltype = \"binary\"\n",
    "ctx.get_stackings.na_atoms = ctx.na_atoms\n",
    "ctx.get_stackings.pins.na_atoms.celltype = \"binary\"\n",
    "ctx.get_stackings.x3dna_nucleotides = ctx.x3dna_nucleotides\n",
    "ctx.get_stackings.pins.x3dna_nucleotides.celltype = \"plain\"\n",
    "ctx.stackings = ctx.get_stackings\n",
    "ctx.stackings.celltype = \"plain\"\n",
    "\n",
    "def get_df_stackings(stackings):\n",
    "    import pandas as pd\n",
    "    df_stackings = pd.DataFrame(stackings)\n",
    "    return df_stackings.to_html()\n",
    "\n",
    "ctx.get_df_stackings = get_df_stackings\n",
    "ctx.get_df_stackings.stackings = ctx.stackings\n",
    "ctx.get_df_stackings.pins.stackings.celltype = \"plain\"\n",
    "ctx.df_stackings = ctx.get_df_stackings\n",
    "await ctx.translation()\n",
    "ctx.df_stackings.mimetype = \"text/html\"\n",
    "await ctx.translation()\n",
    "ctx.df_stackings.output()"
   ]
  },
  {
   "cell_type": "markdown",
   "metadata": {},
   "source": [
    "**Plot a nucleotide conformation property versus a stacking property**"
   ]
  },
  {
   "cell_type": "code",
   "execution_count": 20,
   "metadata": {},
   "outputs": [
    {
     "data": {
      "application/vnd.jupyter.widget-view+json": {
       "model_id": "0f2f23256c52471dbf52c3b5b8cf1e51",
       "version_major": 2,
       "version_minor": 0
      },
      "text/plain": [
       "Output()"
      ]
     },
     "metadata": {},
     "output_type": "display_data"
    }
   ],
   "source": [
    "def get_plot(stackings):\n",
    "    from matplotlib import pyplot as plt\n",
    "    import mpld3\n",
    "    fig, ax = plt.subplots()\n",
    "    ax.scatter(\n",
    "        [stacking[\"chi\"] for stacking in stackings],\n",
    "        [stacking[\"closest_distance\"] for stacking in stackings],\n",
    "    )\n",
    "    ax.set_xlabel('Chi')\n",
    "    ax.set_ylabel('Closest distance')\n",
    "    return mpld3.fig_to_html(fig)\n",
    "\n",
    "ctx.get_plot = get_plot\n",
    "ctx.get_plot.stackings = ctx.stackings\n",
    "ctx.get_plot.pins.stackings.celltype = \"plain\"\n",
    "ctx.plot = ctx.get_plot\n",
    "await ctx.translation()\n",
    "ctx.plot.mimetype = \"text/html\"\n",
    "await ctx.translation()\n",
    "ctx.plot.output()"
   ]
  },
  {
   "cell_type": "markdown",
   "metadata": {},
   "source": [
    "**Wait for the computation to finish**\n",
    "\n",
    "**Save Seamless graph in two files**\n",
    "- topology (.seamless, JSON format)\n",
    "- values (.zip)"
   ]
  },
  {
   "cell_type": "code",
   "execution_count": 21,
   "metadata": {},
   "outputs": [],
   "source": [
    "await ctx.computation()\n",
    "ctx.save_graph(\"initial-port.seamless\")\n",
    "ctx.save_zip(\"initial-port.zip\")"
   ]
  }
 ],
 "metadata": {
  "kernelspec": {
   "display_name": "Python 3",
   "language": "python",
   "name": "python3"
  },
  "language_info": {
   "codemirror_mode": {
    "name": "ipython",
    "version": 3
   },
   "file_extension": ".py",
   "mimetype": "text/x-python",
   "name": "python",
   "nbconvert_exporter": "python",
   "pygments_lexer": "ipython3",
   "version": "3.7.3"
  }
 },
 "nbformat": 4,
 "nbformat_minor": 2
}
